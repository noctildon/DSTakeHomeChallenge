{
 "cells": [
  {
   "cell_type": "code",
   "execution_count": 1,
   "metadata": {},
   "outputs": [],
   "source": [
    "import polars as pl"
   ]
  },
  {
   "cell_type": "code",
   "execution_count": 2,
   "metadata": {},
   "outputs": [],
   "source": [
    "df = pl.DataFrame(\n",
    "    {\n",
    "        \"A\": [1, 2, 3, 4, 5],\n",
    "        \"fruits\": [\"banana\", \"banana\", \"apple\", \"apple\", \"banana\"],\n",
    "        \"B\": [5, 4, 3, 2, 1],\n",
    "        \"cars\": [\"beetle\", \"audi\", \"beetle\", \"beetle\", \"beetle\"],\n",
    "    }\n",
    ")\n"
   ]
  },
  {
   "cell_type": "code",
   "execution_count": 3,
   "metadata": {},
   "outputs": [
    {
     "data": {
      "text/html": [
       "<div><style>\n",
       ".dataframe > thead > tr,\n",
       ".dataframe > tbody > tr {\n",
       "  text-align: right;\n",
       "  white-space: pre-wrap;\n",
       "}\n",
       "</style>\n",
       "<small>shape: (5, 4)</small><table border=\"1\" class=\"dataframe\"><thead><tr><th>A</th><th>fruits</th><th>B</th><th>cars</th></tr><tr><td>i64</td><td>str</td><td>i64</td><td>str</td></tr></thead><tbody><tr><td>1</td><td>&quot;banana&quot;</td><td>5</td><td>&quot;beetle&quot;</td></tr><tr><td>2</td><td>&quot;banana&quot;</td><td>4</td><td>&quot;audi&quot;</td></tr><tr><td>3</td><td>&quot;apple&quot;</td><td>3</td><td>&quot;beetle&quot;</td></tr><tr><td>4</td><td>&quot;apple&quot;</td><td>2</td><td>&quot;beetle&quot;</td></tr><tr><td>5</td><td>&quot;banana&quot;</td><td>1</td><td>&quot;beetle&quot;</td></tr></tbody></table></div>"
      ],
      "text/plain": [
       "shape: (5, 4)\n",
       "┌─────┬────────┬─────┬────────┐\n",
       "│ A   ┆ fruits ┆ B   ┆ cars   │\n",
       "│ --- ┆ ---    ┆ --- ┆ ---    │\n",
       "│ i64 ┆ str    ┆ i64 ┆ str    │\n",
       "╞═════╪════════╪═════╪════════╡\n",
       "│ 1   ┆ banana ┆ 5   ┆ beetle │\n",
       "│ 2   ┆ banana ┆ 4   ┆ audi   │\n",
       "│ 3   ┆ apple  ┆ 3   ┆ beetle │\n",
       "│ 4   ┆ apple  ┆ 2   ┆ beetle │\n",
       "│ 5   ┆ banana ┆ 1   ┆ beetle │\n",
       "└─────┴────────┴─────┴────────┘"
      ]
     },
     "execution_count": 3,
     "metadata": {},
     "output_type": "execute_result"
    }
   ],
   "source": [
    "df"
   ]
  },
  {
   "cell_type": "code",
   "execution_count": 4,
   "metadata": {},
   "outputs": [],
   "source": [
    "df = pl.read_csv('./dataset/1.conversion/conversion_data.csv')"
   ]
  },
  {
   "cell_type": "code",
   "execution_count": 5,
   "metadata": {},
   "outputs": [
    {
     "data": {
      "text/html": [
       "<div><style>\n",
       ".dataframe > thead > tr,\n",
       ".dataframe > tbody > tr {\n",
       "  text-align: right;\n",
       "  white-space: pre-wrap;\n",
       "}\n",
       "</style>\n",
       "<small>shape: (316_200, 6)</small><table border=\"1\" class=\"dataframe\"><thead><tr><th>country</th><th>age</th><th>new_user</th><th>source</th><th>total_pages_visited</th><th>converted</th></tr><tr><td>str</td><td>i64</td><td>i64</td><td>str</td><td>i64</td><td>i64</td></tr></thead><tbody><tr><td>&quot;UK&quot;</td><td>25</td><td>1</td><td>&quot;Ads&quot;</td><td>1</td><td>0</td></tr><tr><td>&quot;US&quot;</td><td>23</td><td>1</td><td>&quot;Seo&quot;</td><td>5</td><td>0</td></tr><tr><td>&quot;US&quot;</td><td>28</td><td>1</td><td>&quot;Seo&quot;</td><td>4</td><td>0</td></tr><tr><td>&quot;China&quot;</td><td>39</td><td>1</td><td>&quot;Seo&quot;</td><td>5</td><td>0</td></tr><tr><td>&quot;US&quot;</td><td>30</td><td>1</td><td>&quot;Seo&quot;</td><td>6</td><td>0</td></tr><tr><td>&hellip;</td><td>&hellip;</td><td>&hellip;</td><td>&hellip;</td><td>&hellip;</td><td>&hellip;</td></tr><tr><td>&quot;US&quot;</td><td>26</td><td>1</td><td>&quot;Ads&quot;</td><td>9</td><td>0</td></tr><tr><td>&quot;US&quot;</td><td>27</td><td>1</td><td>&quot;Direct&quot;</td><td>6</td><td>0</td></tr><tr><td>&quot;China&quot;</td><td>25</td><td>0</td><td>&quot;Ads&quot;</td><td>4</td><td>0</td></tr><tr><td>&quot;US&quot;</td><td>22</td><td>0</td><td>&quot;Seo&quot;</td><td>4</td><td>0</td></tr><tr><td>&quot;UK&quot;</td><td>24</td><td>0</td><td>&quot;Ads&quot;</td><td>4</td><td>0</td></tr></tbody></table></div>"
      ],
      "text/plain": [
       "shape: (316_200, 6)\n",
       "┌─────────┬─────┬──────────┬────────┬─────────────────────┬───────────┐\n",
       "│ country ┆ age ┆ new_user ┆ source ┆ total_pages_visited ┆ converted │\n",
       "│ ---     ┆ --- ┆ ---      ┆ ---    ┆ ---                 ┆ ---       │\n",
       "│ str     ┆ i64 ┆ i64      ┆ str    ┆ i64                 ┆ i64       │\n",
       "╞═════════╪═════╪══════════╪════════╪═════════════════════╪═══════════╡\n",
       "│ UK      ┆ 25  ┆ 1        ┆ Ads    ┆ 1                   ┆ 0         │\n",
       "│ US      ┆ 23  ┆ 1        ┆ Seo    ┆ 5                   ┆ 0         │\n",
       "│ US      ┆ 28  ┆ 1        ┆ Seo    ┆ 4                   ┆ 0         │\n",
       "│ China   ┆ 39  ┆ 1        ┆ Seo    ┆ 5                   ┆ 0         │\n",
       "│ US      ┆ 30  ┆ 1        ┆ Seo    ┆ 6                   ┆ 0         │\n",
       "│ …       ┆ …   ┆ …        ┆ …      ┆ …                   ┆ …         │\n",
       "│ US      ┆ 26  ┆ 1        ┆ Ads    ┆ 9                   ┆ 0         │\n",
       "│ US      ┆ 27  ┆ 1        ┆ Direct ┆ 6                   ┆ 0         │\n",
       "│ China   ┆ 25  ┆ 0        ┆ Ads    ┆ 4                   ┆ 0         │\n",
       "│ US      ┆ 22  ┆ 0        ┆ Seo    ┆ 4                   ┆ 0         │\n",
       "│ UK      ┆ 24  ┆ 0        ┆ Ads    ┆ 4                   ┆ 0         │\n",
       "└─────────┴─────┴──────────┴────────┴─────────────────────┴───────────┘"
      ]
     },
     "execution_count": 5,
     "metadata": {},
     "output_type": "execute_result"
    }
   ],
   "source": [
    "df"
   ]
  },
  {
   "cell_type": "code",
   "execution_count": null,
   "metadata": {},
   "outputs": [],
   "source": []
  }
 ],
 "metadata": {
  "kernelspec": {
   "display_name": "Python 3",
   "language": "python",
   "name": "python3"
  },
  "language_info": {
   "codemirror_mode": {
    "name": "ipython",
    "version": 3
   },
   "file_extension": ".py",
   "mimetype": "text/x-python",
   "name": "python",
   "nbconvert_exporter": "python",
   "pygments_lexer": "ipython3",
   "version": "3.10.12"
  }
 },
 "nbformat": 4,
 "nbformat_minor": 2
}
