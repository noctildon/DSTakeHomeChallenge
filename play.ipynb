{
 "cells": [
  {
   "cell_type": "code",
   "execution_count": 1,
   "metadata": {},
   "outputs": [],
   "source": [
    "import numpy as np\n",
    "import pandas as pd\n",
    "from IPython.display import display\n",
    "\n",
    "import polars as pl\n",
    "from ipaddress import ip_address"
   ]
  },
  {
   "cell_type": "code",
   "execution_count": 2,
   "metadata": {},
   "outputs": [],
   "source": [
    "def ip_to_int(ip):\n",
    "    return int(ip_address(ip))\n",
    "\n",
    "# IP range table\n",
    "ranges = pl.DataFrame({\n",
    "    \"start_ip\": [ip_to_int(\"1.0.0.0\"), ip_to_int(\"2.0.0.0\")],\n",
    "    \"end_ip\": [ip_to_int(\"1.255.255.255\"), ip_to_int(\"2.255.255.255\")],\n",
    "    \"country\": [\"CountryA\", \"CountryB\"]\n",
    "}).sort(\"start_ip\")\n",
    "\n",
    "# IPs to lookup\n",
    "ips = pl.DataFrame({\n",
    "    \"ip\": [ip_to_int(\"1.2.3.4\"), ip_to_int(\"2.128.0.1\"), ip_to_int(\"3.0.0.1\"), ip_to_int(\"0.0.0.1\")]\n",
    "}).sort(\"ip\")"
   ]
  },
  {
   "cell_type": "code",
   "execution_count": 3,
   "metadata": {},
   "outputs": [
    {
     "data": {
      "text/html": [
       "<div><style>\n",
       ".dataframe > thead > tr,\n",
       ".dataframe > tbody > tr {\n",
       "  text-align: right;\n",
       "  white-space: pre-wrap;\n",
       "}\n",
       "</style>\n",
       "<small>shape: (2, 3)</small><table border=\"1\" class=\"dataframe\"><thead><tr><th>start_ip</th><th>end_ip</th><th>country</th></tr><tr><td>i64</td><td>i64</td><td>str</td></tr></thead><tbody><tr><td>16777216</td><td>33554431</td><td>&quot;CountryA&quot;</td></tr><tr><td>33554432</td><td>50331647</td><td>&quot;CountryB&quot;</td></tr></tbody></table></div>"
      ],
      "text/plain": [
       "shape: (2, 3)\n",
       "┌──────────┬──────────┬──────────┐\n",
       "│ start_ip ┆ end_ip   ┆ country  │\n",
       "│ ---      ┆ ---      ┆ ---      │\n",
       "│ i64      ┆ i64      ┆ str      │\n",
       "╞══════════╪══════════╪══════════╡\n",
       "│ 16777216 ┆ 33554431 ┆ CountryA │\n",
       "│ 33554432 ┆ 50331647 ┆ CountryB │\n",
       "└──────────┴──────────┴──────────┘"
      ]
     },
     "metadata": {},
     "output_type": "display_data"
    },
    {
     "data": {
      "text/html": [
       "<div><style>\n",
       ".dataframe > thead > tr,\n",
       ".dataframe > tbody > tr {\n",
       "  text-align: right;\n",
       "  white-space: pre-wrap;\n",
       "}\n",
       "</style>\n",
       "<small>shape: (4, 1)</small><table border=\"1\" class=\"dataframe\"><thead><tr><th>ip</th></tr><tr><td>i64</td></tr></thead><tbody><tr><td>1</td></tr><tr><td>16909060</td></tr><tr><td>41943041</td></tr><tr><td>50331649</td></tr></tbody></table></div>"
      ],
      "text/plain": [
       "shape: (4, 1)\n",
       "┌──────────┐\n",
       "│ ip       │\n",
       "│ ---      │\n",
       "│ i64      │\n",
       "╞══════════╡\n",
       "│ 1        │\n",
       "│ 16909060 │\n",
       "│ 41943041 │\n",
       "│ 50331649 │\n",
       "└──────────┘"
      ]
     },
     "metadata": {},
     "output_type": "display_data"
    }
   ],
   "source": [
    "display(ranges)\n",
    "display(ips)"
   ]
  },
  {
   "cell_type": "code",
   "execution_count": 4,
   "metadata": {},
   "outputs": [],
   "source": [
    "ips = ips.sort(\"ip\")\n",
    "ranges = ranges.sort(\"start_ip\")\n",
    "\n",
    "result = ips.join_asof(\n",
    "    ranges,\n",
    "    left_on=\"ip\",\n",
    "    right_on=\"start_ip\",\n",
    "    strategy=\"backward\"\n",
    ")"
   ]
  },
  {
   "cell_type": "code",
   "execution_count": 5,
   "metadata": {},
   "outputs": [
    {
     "data": {
      "text/html": [
       "<div><style>\n",
       ".dataframe > thead > tr,\n",
       ".dataframe > tbody > tr {\n",
       "  text-align: right;\n",
       "  white-space: pre-wrap;\n",
       "}\n",
       "</style>\n",
       "<small>shape: (4, 4)</small><table border=\"1\" class=\"dataframe\"><thead><tr><th>ip</th><th>start_ip</th><th>end_ip</th><th>country</th></tr><tr><td>i64</td><td>i64</td><td>i64</td><td>str</td></tr></thead><tbody><tr><td>1</td><td>null</td><td>null</td><td>null</td></tr><tr><td>16909060</td><td>16777216</td><td>33554431</td><td>&quot;CountryA&quot;</td></tr><tr><td>41943041</td><td>33554432</td><td>50331647</td><td>&quot;CountryB&quot;</td></tr><tr><td>50331649</td><td>33554432</td><td>50331647</td><td>&quot;CountryB&quot;</td></tr></tbody></table></div>"
      ],
      "text/plain": [
       "shape: (4, 4)\n",
       "┌──────────┬──────────┬──────────┬──────────┐\n",
       "│ ip       ┆ start_ip ┆ end_ip   ┆ country  │\n",
       "│ ---      ┆ ---      ┆ ---      ┆ ---      │\n",
       "│ i64      ┆ i64      ┆ i64      ┆ str      │\n",
       "╞══════════╪══════════╪══════════╪══════════╡\n",
       "│ 1        ┆ null     ┆ null     ┆ null     │\n",
       "│ 16909060 ┆ 16777216 ┆ 33554431 ┆ CountryA │\n",
       "│ 41943041 ┆ 33554432 ┆ 50331647 ┆ CountryB │\n",
       "│ 50331649 ┆ 33554432 ┆ 50331647 ┆ CountryB │\n",
       "└──────────┴──────────┴──────────┴──────────┘"
      ]
     },
     "execution_count": 5,
     "metadata": {},
     "output_type": "execute_result"
    }
   ],
   "source": [
    "result"
   ]
  },
  {
   "cell_type": "code",
   "execution_count": 6,
   "metadata": {},
   "outputs": [],
   "source": [
    "# Filter out IPs that are not within the range\n",
    "result = result.with_columns([\n",
    "    pl.when(pl.col(\"ip\") > pl.col(\"end_ip\"))\n",
    "      .then(None)\n",
    "      .otherwise(pl.col(\"country\"))\n",
    "      .alias(\"country_mapped\")\n",
    "])"
   ]
  },
  {
   "cell_type": "code",
   "execution_count": 7,
   "metadata": {},
   "outputs": [
    {
     "data": {
      "text/html": [
       "<div><style>\n",
       ".dataframe > thead > tr,\n",
       ".dataframe > tbody > tr {\n",
       "  text-align: right;\n",
       "  white-space: pre-wrap;\n",
       "}\n",
       "</style>\n",
       "<small>shape: (4, 5)</small><table border=\"1\" class=\"dataframe\"><thead><tr><th>ip</th><th>start_ip</th><th>end_ip</th><th>country</th><th>country_mapped</th></tr><tr><td>i64</td><td>i64</td><td>i64</td><td>str</td><td>str</td></tr></thead><tbody><tr><td>1</td><td>null</td><td>null</td><td>null</td><td>null</td></tr><tr><td>16909060</td><td>16777216</td><td>33554431</td><td>&quot;CountryA&quot;</td><td>&quot;CountryA&quot;</td></tr><tr><td>41943041</td><td>33554432</td><td>50331647</td><td>&quot;CountryB&quot;</td><td>&quot;CountryB&quot;</td></tr><tr><td>50331649</td><td>33554432</td><td>50331647</td><td>&quot;CountryB&quot;</td><td>null</td></tr></tbody></table></div>"
      ],
      "text/plain": [
       "shape: (4, 5)\n",
       "┌──────────┬──────────┬──────────┬──────────┬────────────────┐\n",
       "│ ip       ┆ start_ip ┆ end_ip   ┆ country  ┆ country_mapped │\n",
       "│ ---      ┆ ---      ┆ ---      ┆ ---      ┆ ---            │\n",
       "│ i64      ┆ i64      ┆ i64      ┆ str      ┆ str            │\n",
       "╞══════════╪══════════╪══════════╪══════════╪════════════════╡\n",
       "│ 1        ┆ null     ┆ null     ┆ null     ┆ null           │\n",
       "│ 16909060 ┆ 16777216 ┆ 33554431 ┆ CountryA ┆ CountryA       │\n",
       "│ 41943041 ┆ 33554432 ┆ 50331647 ┆ CountryB ┆ CountryB       │\n",
       "│ 50331649 ┆ 33554432 ┆ 50331647 ┆ CountryB ┆ null           │\n",
       "└──────────┴──────────┴──────────┴──────────┴────────────────┘"
      ]
     },
     "execution_count": 7,
     "metadata": {},
     "output_type": "execute_result"
    }
   ],
   "source": [
    "result"
   ]
  },
  {
   "cell_type": "code",
   "execution_count": null,
   "metadata": {},
   "outputs": [],
   "source": []
  }
 ],
 "metadata": {
  "kernelspec": {
   "display_name": ".venv",
   "language": "python",
   "name": "python3"
  },
  "language_info": {
   "codemirror_mode": {
    "name": "ipython",
    "version": 3
   },
   "file_extension": ".py",
   "mimetype": "text/x-python",
   "name": "python",
   "nbconvert_exporter": "python",
   "pygments_lexer": "ipython3",
   "version": "3.12.3"
  }
 },
 "nbformat": 4,
 "nbformat_minor": 2
}
